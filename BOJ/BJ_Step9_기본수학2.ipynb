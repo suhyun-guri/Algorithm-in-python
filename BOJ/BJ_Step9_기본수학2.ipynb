{
 "cells": [
  {
   "cell_type": "markdown",
   "metadata": {},
   "source": [
    "# 단계 9, 기본수학2\n",
    "- 1978, 2581, 11653, 1929, 4948, 9020"
   ]
  },
  {
   "cell_type": "markdown",
   "metadata": {},
   "source": [
    "## #1978 소수 찾기\n",
    "> 주어진 수 N개 중에서 소수가 몇 개인지 찾아서 출력하는 프로그램을 작성하시오.\n"
   ]
  },
  {
   "cell_type": "code",
   "execution_count": 15,
   "metadata": {},
   "outputs": [
    {
     "name": "stdout",
     "output_type": "stream",
     "text": [
      "0\n"
     ]
    }
   ],
   "source": [
    "n = int(input())\n",
    "numbers = list(map(int, input().split()))\n",
    "cnt = 0\n",
    "for i in numbers:\n",
    "    # 1은 소수가 아니므로 2부터 시작~\n",
    "    for j in range(2, i+1):\n",
    "        # i가 j에 나누어 떨어지면 소수가 아니므로 break\n",
    "        # 처음으로 나누어 떨어지는 수가 j라면(그 전에 나뉘는게 있다면 break이니까) 소수이므로 cnt += 1\n",
    "        if i % j == 0:\n",
    "            if i == j:\n",
    "                cnt += 1\n",
    "            break\n",
    "\n",
    "print(cnt)"
   ]
  }
 ],
 "metadata": {
  "interpreter": {
   "hash": "f7726800f6bd6d6a1a507ed6cb30f10232557c1f96e064b3223e3eb72187ba89"
  },
  "kernelspec": {
   "display_name": "Python 3.10.0 64-bit",
   "language": "python",
   "name": "python3"
  },
  "language_info": {
   "codemirror_mode": {
    "name": "ipython",
    "version": 3
   },
   "file_extension": ".py",
   "mimetype": "text/x-python",
   "name": "python",
   "nbconvert_exporter": "python",
   "pygments_lexer": "ipython3",
   "version": "3.10.0"
  },
  "orig_nbformat": 4
 },
 "nbformat": 4,
 "nbformat_minor": 2
}
