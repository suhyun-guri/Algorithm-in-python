{
 "cells": [
  {
   "cell_type": "markdown",
   "metadata": {},
   "source": [
    "# 단계 8, 기본수학1\n",
    "- 1712, 2292, 1193, 2869, 10250, 2775, 2839, 10757"
   ]
  },
  {
   "cell_type": "markdown",
   "metadata": {},
   "source": [
    "## #1712 손익분기점\n",
    "> 월드전자는 노트북을 제조하고 판매하는 회사이다. 노트북 판매 대수에 상관없이 매년 임대료, 재산세, 보험료, 급여 등 A만원의 고정 비용이 들며, 한 대의 노트북을 생산하는 데에는 재료비와 인건비 등 총 B만원의 가변 비용이 든다고 한다. \\\n",
    "예를 들어 A=1,000, B=70이라고 하자. 이 경우 노트북을 한 대 생산하는 데는 총 1,070만원이 들며, 열 대 생산하는 데는 총 1,700만원이 든다. \\\n",
    "노트북 가격이 C만원으로 책정되었다고 한다. 일반적으로 생산 대수를 늘려 가다 보면 어느 순간 총 수입(판매비용)이 총 비용(=고정비용+가변비용)보다 많아지게 된다. 최초로 총 수입이 총 비용보다 많아져 이익이 발생하는 지점을 손익분기점(BREAK-EVEN POINT)이라고 한다. \\\n",
    "A, B, C가 주어졌을 때, 손익분기점을 구하는 프로그램을 작성하시오."
   ]
  },
  {
   "cell_type": "code",
   "execution_count": 11,
   "metadata": {},
   "outputs": [
    {
     "name": "stdout",
     "output_type": "stream",
     "text": [
      "-1\n"
     ]
    }
   ],
   "source": [
    "#1712\n",
    "#A + Bx > Cx\n",
    "#첫번째 생각 -> 런타임에러\n",
    "a, b, c = map(int, input().split())\n",
    "var = (a // (c - b)) + 1\n",
    "result = var if var > 0 else -1\n",
    "print(result)\n"
   ]
  },
  {
   "cell_type": "code",
   "execution_count": 14,
   "metadata": {},
   "outputs": [
    {
     "name": "stdout",
     "output_type": "stream",
     "text": [
      "-1\n"
     ]
    }
   ],
   "source": [
    "#손익분기점이 존재하지 않을 때 ? -> c-b가 0보다 같거나 작을 때 !\n",
    "a, b, c = map(int, input().split())\n",
    "if b >= c:\n",
    "    print(-1)\n",
    "else:\n",
    "    print((a // (c - b)) + 1)\n"
   ]
  },
  {
   "cell_type": "markdown",
   "metadata": {},
   "source": [
    "## #2292 벌집\n",
    "> 육각형으로 이루어진 벌집이 있다. \\\n",
    "그림에서 보는 바와 같이 중앙의 방 1부터 시작해서 이웃하는 방에 돌아가면서 1씩 증가하는 번호를 주소로 매길 수 있다. 숫자 N이 주어졌을 때, 벌집의 중앙 1에서 N번 방까지 최소 개수의 방을 지나서 갈 때 몇 개의 방을 지나가는지(시작과 끝을 포함하여)를 계산하는 프로그램을 작성하시오. 예를 들면, 13까지는 3개, 58까지는 5개를 지난다.\n",
    "\n",
    "- 벌집의 개수가 6의배수로 늘어난다.\n",
    "- 2~7 (6개) -> 최소 방 수 : 2\n",
    "- 8~19 (12개) -> 3\n",
    "- 20~37 (18개) -> 4\n",
    "- ..."
   ]
  },
  {
   "cell_type": "code",
   "execution_count": 15,
   "metadata": {},
   "outputs": [
    {
     "name": "stdout",
     "output_type": "stream",
     "text": [
      "5\n"
     ]
    }
   ],
   "source": [
    "#2292\n",
    "n = int(input())\n",
    "nums = 1 #벌집의 개수\n",
    "cnt = 1 #최소 방 개수\n",
    "while n > nums:\n",
    "    nums += 6*cnt\n",
    "    cnt += 1\n",
    "print(cnt)"
   ]
  },
  {
   "cell_type": "markdown",
   "metadata": {},
   "source": [
    "## #1193 분수찾기\n",
    "| | | | | |\n",
    "|---|---|---|---|---|\n",
    "|1/1 | 1/2 | 1/3 | 1/4 | ... | \\\n",
    "|2/1 | 2/2 | 2/3 | 2/4 | ... | \\\n",
    "|3/1 | 3/2 | 3/3 | ... | ... | \\\n",
    "|4/1 | 4/2 | ... | ... | ... | \\\n",
    "|5/1 | ... | ... | ... | ... | \\\n",
    "|... | ... | ... | ... | ... | \\\n",
    "\n",
    "<br>\n",
    "\n",
    "> 이와 같이 나열된 분수들을 1/1 → 1/2 → 2/1 → 3/1 → 2/2 → … 과 같은 지그재그 순서로 차례대로 1번, 2번, 3번, 4번, 5번, … 분수라고 하자. \\\n",
    "X가 주어졌을 때, X번째 분수를 구하는 프로그램을 작성하시오.\n"
   ]
  },
  {
   "cell_type": "code",
   "execution_count": null,
   "metadata": {},
   "outputs": [],
   "source": []
  }
 ],
 "metadata": {
  "interpreter": {
   "hash": "d2f0a00d37530bf1e1f124be3b72f6f0e226eb2eeb8e18c6ab2fa55754a1c6b6"
  },
  "kernelspec": {
   "display_name": "Python 3.10.0 64-bit",
   "language": "python",
   "name": "python3"
  },
  "language_info": {
   "codemirror_mode": {
    "name": "ipython",
    "version": 3
   },
   "file_extension": ".py",
   "mimetype": "text/x-python",
   "name": "python",
   "nbconvert_exporter": "python",
   "pygments_lexer": "ipython3",
   "version": "3.10.0"
  },
  "orig_nbformat": 4
 },
 "nbformat": 4,
 "nbformat_minor": 2
}
