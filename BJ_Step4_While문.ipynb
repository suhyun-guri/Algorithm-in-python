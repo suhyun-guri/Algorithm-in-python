{
 "cells": [
  {
   "cell_type": "markdown",
   "metadata": {},
   "source": [
    "### 이진수 변환 : 10829\n",
    "https://www.acmicpc.net/problem/10829"
   ]
  },
  {
   "cell_type": "code",
   "execution_count": 8,
   "metadata": {},
   "outputs": [
    {
     "name": "stdout",
     "output_type": "stream",
     "text": [
      "110101"
     ]
    }
   ],
   "source": [
    "# 10829\n",
    "n = int(input())\n",
    "def func(n):\n",
    "    if n == 0:\n",
    "        return\n",
    "    else:\n",
    "        func(n // 2)\n",
    "        print(n % 2, end=\"\")\n",
    "func(n)"
   ]
  },
  {
   "cell_type": "markdown",
   "metadata": {},
   "source": [
    "# 단계 4, While문\n",
    "- 10952, 10951, 1110"
   ]
  },
  {
   "cell_type": "code",
   "execution_count": 20,
   "metadata": {},
   "outputs": [
    {
     "name": "stdout",
     "output_type": "stream",
     "text": [
      "3\n",
      "7\n"
     ]
    }
   ],
   "source": [
    "#10952\n",
    "while True:\n",
    "    a, b = map(int, input().split())\n",
    "    if a == 0 and b == 0:\n",
    "        break\n",
    "    print(a+b)\n"
   ]
  },
  {
   "cell_type": "code",
   "execution_count": 27,
   "metadata": {},
   "outputs": [
    {
     "name": "stdout",
     "output_type": "stream",
     "text": [
      "6\n"
     ]
    }
   ],
   "source": [
    "#10951\n",
    "while True:\n",
    "    try:\n",
    "        a, b = map(int, input().split())\n",
    "        print(a+b)\n",
    "    except:\n",
    "        break"
   ]
  },
  {
   "cell_type": "code",
   "execution_count": 91,
   "metadata": {},
   "outputs": [
    {
     "name": "stdout",
     "output_type": "stream",
     "text": [
      "60\n"
     ]
    }
   ],
   "source": [
    "#1110\n",
    "n = int(input())\n",
    "if n < 10:\n",
    "    n = n*10\n",
    "count = 0\n",
    "temp = n\n",
    "\n",
    "while True:\n",
    "    left = temp // 10\n",
    "    right = temp % 10\n",
    "    newright = (left+right) % 10\n",
    "    temp = (right*10) + newright\n",
    "    count+=1\n",
    "    # print(left, right, newright, temp)\n",
    "    if temp == n:\n",
    "        break\n",
    "\n",
    "print(count)\n"
   ]
  },
  {
   "cell_type": "code",
   "execution_count": 93,
   "metadata": {},
   "outputs": [
    {
     "name": "stdout",
     "output_type": "stream",
     "text": [
      "60\n"
     ]
    }
   ],
   "source": [
    "n = int(input())\n",
    "num=n\n",
    "count=0\n",
    "\n",
    "while True:\n",
    "     left = num // 10\n",
    "     right = num % 10\n",
    "     newright = (left+right) % 10\n",
    "     num = (right*10) + newright\n",
    "     count += 1\n",
    "     if num == n:\n",
    "         break\n",
    "\n",
    "print(count)\n"
   ]
  }
 ],
 "metadata": {
  "interpreter": {
   "hash": "d2f0a00d37530bf1e1f124be3b72f6f0e226eb2eeb8e18c6ab2fa55754a1c6b6"
  },
  "kernelspec": {
   "display_name": "Python 3.10.0 64-bit",
   "name": "python3"
  },
  "language_info": {
   "codemirror_mode": {
    "name": "ipython",
    "version": 3
   },
   "file_extension": ".py",
   "mimetype": "text/x-python",
   "name": "python",
   "nbconvert_exporter": "python",
   "pygments_lexer": "ipython3",
   "version": "3.10.0"
  },
  "orig_nbformat": 4
 },
 "nbformat": 4,
 "nbformat_minor": 2
}
