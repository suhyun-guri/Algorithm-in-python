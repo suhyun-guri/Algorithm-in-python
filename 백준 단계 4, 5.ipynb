{
 "cells": [
  {
   "cell_type": "markdown",
   "metadata": {},
   "source": []
  },
  {
   "cell_type": "markdown",
   "metadata": {},
   "source": [
    "### 이진수 변환 : 10829\n",
    "https://www.acmicpc.net/problem/10829"
   ]
  },
  {
   "cell_type": "code",
   "execution_count": 8,
   "metadata": {},
   "outputs": [
    {
     "name": "stdout",
     "output_type": "stream",
     "text": [
      "110101"
     ]
    }
   ],
   "source": [
    "# 10829\n",
    "n = int(input())\n",
    "def func(n):\n",
    "    if n == 0:\n",
    "        return\n",
    "    else:\n",
    "        func(n // 2)\n",
    "        print(n % 2, end=\"\")\n",
    "func(n)"
   ]
  },
  {
   "cell_type": "markdown",
   "metadata": {},
   "source": [
    "### 단계 4, while문 : 10952, 10951, 1110"
   ]
  },
  {
   "cell_type": "code",
   "execution_count": 20,
   "metadata": {},
   "outputs": [
    {
     "name": "stdout",
     "output_type": "stream",
     "text": [
      "3\n",
      "7\n"
     ]
    }
   ],
   "source": [
    "#10952\n",
    "while True:\n",
    "    a, b = map(int, input().split())\n",
    "    if a == 0 and b == 0:\n",
    "        break\n",
    "    print(a+b)\n"
   ]
  },
  {
   "cell_type": "code",
   "execution_count": 27,
   "metadata": {},
   "outputs": [
    {
     "name": "stdout",
     "output_type": "stream",
     "text": [
      "6\n"
     ]
    }
   ],
   "source": [
    "#10951\n",
    "while True:\n",
    "    try:\n",
    "        a, b = map(int, input().split())\n",
    "        print(a+b)\n",
    "    except:\n",
    "        break"
   ]
  },
  {
   "cell_type": "code",
   "execution_count": 91,
   "metadata": {},
   "outputs": [
    {
     "name": "stdout",
     "output_type": "stream",
     "text": [
      "60\n"
     ]
    }
   ],
   "source": [
    "#1110\n",
    "n = int(input())\n",
    "if n < 10:\n",
    "    n = n*10\n",
    "count = 0\n",
    "temp = n\n",
    "\n",
    "while True:\n",
    "    left = temp // 10\n",
    "    right = temp % 10\n",
    "    newright = (left+right) % 10\n",
    "    temp = (right*10) + newright\n",
    "    count+=1\n",
    "    # print(left, right, newright, temp)\n",
    "    if temp == n:\n",
    "        break\n",
    "\n",
    "print(count)\n"
   ]
  },
  {
   "cell_type": "code",
   "execution_count": 93,
   "metadata": {},
   "outputs": [
    {
     "name": "stdout",
     "output_type": "stream",
     "text": [
      "60\n"
     ]
    }
   ],
   "source": [
    "n = int(input())\n",
    "num=n\n",
    "count=0\n",
    "\n",
    "while True:\n",
    "     left = num // 10\n",
    "     right = num % 10\n",
    "     newright = (left+right) % 10\n",
    "     num = (right*10) + newright\n",
    "     count += 1\n",
    "     if num == n:\n",
    "         break\n",
    "\n",
    "print(count)\n"
   ]
  },
  {
   "cell_type": "markdown",
   "metadata": {},
   "source": [
    "### 단계 5, 1차원 배열 : 10818, 2562, 2577, 3052, 1546, 8958, 4344"
   ]
  },
  {
   "cell_type": "code",
   "execution_count": 10,
   "metadata": {},
   "outputs": [
    {
     "name": "stdout",
     "output_type": "stream",
     "text": [
      "7 35\n"
     ]
    }
   ],
   "source": [
    "#10818\n",
    "n = int(input())\n",
    "mylist = list(map(int, input().split()))\n",
    "print(min(mylist), max(mylist))"
   ]
  },
  {
   "cell_type": "code",
   "execution_count": 11,
   "metadata": {},
   "outputs": [
    {
     "name": "stdout",
     "output_type": "stream",
     "text": [
      "7 35\n"
     ]
    }
   ],
   "source": [
    "n = int(input())\n",
    "mylist = list(map(int, input().split()))\n",
    "minnum = mylist[0]\n",
    "maxnum = mylist[0]\n",
    "\n",
    "for i in range(len(mylist)):\n",
    "    if mylist[i] < minnum:\n",
    "        minnum = mylist[i]\n",
    "    if mylist[i] > maxnum:\n",
    "        maxnum = mylist[i]\n",
    "print(minnum, maxnum)"
   ]
  },
  {
   "cell_type": "code",
   "execution_count": 15,
   "metadata": {},
   "outputs": [
    {
     "name": "stdout",
     "output_type": "stream",
     "text": [
      "85\n",
      "7\n"
     ]
    }
   ],
   "source": [
    "#2562\n",
    "mylist = [int(input()) for i in range(9)]\n",
    "maxnum = max(mylist)\n",
    "idx = 1\n",
    "for i in mylist:\n",
    "    if i == maxnum:\n",
    "        print(maxnum)\n",
    "        print(idx)\n",
    "    idx += 1"
   ]
  },
  {
   "cell_type": "code",
   "execution_count": 16,
   "metadata": {},
   "outputs": [
    {
     "name": "stdout",
     "output_type": "stream",
     "text": [
      "85\n",
      "7\n"
     ]
    }
   ],
   "source": [
    "#2562\n",
    "mylist = [int(input()) for i in range(9)]\n",
    "maxnum = max(mylist)\n",
    "print(maxnum)\n",
    "print(mylist.index(maxnum) + 1)"
   ]
  },
  {
   "cell_type": "code",
   "execution_count": 29,
   "metadata": {},
   "outputs": [
    {
     "name": "stdout",
     "output_type": "stream",
     "text": [
      "3\n",
      "1\n",
      "0\n",
      "2\n",
      "0\n",
      "0\n",
      "0\n",
      "2\n",
      "0\n",
      "0\n"
     ]
    }
   ],
   "source": [
    "#2577\n",
    "a = int(input())\n",
    "b = int(input())\n",
    "c = int(input())\n",
    "x = list(str(a*b*c))\n",
    "\n",
    "for i in range(10):\n",
    "    print(x.count(str(i)))"
   ]
  },
  {
   "cell_type": "code",
   "execution_count": 44,
   "metadata": {},
   "outputs": [
    {
     "name": "stdout",
     "output_type": "stream",
     "text": [
      "6\n"
     ]
    }
   ],
   "source": [
    "#3052\n",
    "mylist = [int(input()) for _ in range(10)]\n",
    "value = [i%42 for i in mylist]\n",
    "print(len(set(value)))"
   ]
  },
  {
   "cell_type": "code",
   "execution_count": 41,
   "metadata": {},
   "outputs": [
    {
     "data": {
      "text/plain": [
       "2"
      ]
     },
     "execution_count": 41,
     "metadata": {},
     "output_type": "execute_result"
    }
   ],
   "source": [
    "a = [1,1,1,1,1,1,3]\n",
    "len(set(a))"
   ]
  },
  {
   "cell_type": "code",
   "execution_count": 64,
   "metadata": {},
   "outputs": [
    {
     "name": "stdout",
     "output_type": "stream",
     "text": [
      "[10, 20, 30]\n",
      "66.66666666666667\n"
     ]
    }
   ],
   "source": [
    "#1546\n",
    "n = int(input())\n",
    "score = list(map(int, input().split()))\n",
    "maxscore = max(score)\n",
    "newscore = [i / maxscore*100 for i in score]\n",
    "newmean = sum(newscore) / n\n",
    "print(newmean)"
   ]
  },
  {
   "cell_type": "code",
   "execution_count": 67,
   "metadata": {},
   "outputs": [
    {
     "data": {
      "text/plain": [
       "['O',\n",
       " 'X',\n",
       " 'O',\n",
       " 'X',\n",
       " 'O',\n",
       " 'X',\n",
       " 'O',\n",
       " 'X',\n",
       " 'O',\n",
       " 'X',\n",
       " 'O',\n",
       " 'X',\n",
       " 'X',\n",
       " 'O',\n",
       " 'O',\n",
       " 'X',\n",
       " 'O',\n",
       " 'O',\n",
       " 'X']"
      ]
     },
     "execution_count": 67,
     "metadata": {},
     "output_type": "execute_result"
    }
   ],
   "source": [
    "#8958\n",
    "a = 'OXOXOXOXOXOXXOOXOOX'\n",
    "list(a)"
   ]
  },
  {
   "cell_type": "code",
   "execution_count": null,
   "metadata": {},
   "outputs": [],
   "source": []
  },
  {
   "cell_type": "code",
   "execution_count": null,
   "metadata": {},
   "outputs": [],
   "source": []
  },
  {
   "cell_type": "code",
   "execution_count": null,
   "metadata": {},
   "outputs": [],
   "source": []
  },
  {
   "cell_type": "code",
   "execution_count": null,
   "metadata": {},
   "outputs": [],
   "source": []
  },
  {
   "cell_type": "code",
   "execution_count": null,
   "metadata": {},
   "outputs": [],
   "source": []
  },
  {
   "cell_type": "code",
   "execution_count": null,
   "metadata": {},
   "outputs": [],
   "source": []
  },
  {
   "cell_type": "code",
   "execution_count": null,
   "metadata": {},
   "outputs": [],
   "source": []
  }
 ],
 "metadata": {
  "interpreter": {
   "hash": "d2f0a00d37530bf1e1f124be3b72f6f0e226eb2eeb8e18c6ab2fa55754a1c6b6"
  },
  "kernelspec": {
   "display_name": "Python 3.10.0 64-bit",
   "name": "python3"
  },
  "language_info": {
   "codemirror_mode": {
    "name": "ipython",
    "version": 3
   },
   "file_extension": ".py",
   "mimetype": "text/x-python",
   "name": "python",
   "nbconvert_exporter": "python",
   "pygments_lexer": "ipython3",
   "version": "3.10.0"
  },
  "orig_nbformat": 4
 },
 "nbformat": 4,
 "nbformat_minor": 2
}
