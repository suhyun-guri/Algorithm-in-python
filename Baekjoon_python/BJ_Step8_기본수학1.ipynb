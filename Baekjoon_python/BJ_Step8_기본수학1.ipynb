{
 "cells": [
  {
   "cell_type": "markdown",
   "metadata": {},
   "source": [
    "# 단계 8, 기본수학1\n",
    "- 1712, 2292, 1193, 2869, 10250, 2775, 2839, 10757"
   ]
  },
  {
   "cell_type": "markdown",
   "metadata": {},
   "source": [
    "## #1712 손익분기점\n",
    "> 월드전자는 노트북을 제조하고 판매하는 회사이다. 노트북 판매 대수에 상관없이 매년 임대료, 재산세, 보험료, 급여 등 A만원의 고정 비용이 들며, 한 대의 노트북을 생산하는 데에는 재료비와 인건비 등 총 B만원의 가변 비용이 든다고 한다. \\\n",
    "예를 들어 A=1,000, B=70이라고 하자. 이 경우 노트북을 한 대 생산하는 데는 총 1,070만원이 들며, 열 대 생산하는 데는 총 1,700만원이 든다. \\\n",
    "노트북 가격이 C만원으로 책정되었다고 한다. 일반적으로 생산 대수를 늘려 가다 보면 어느 순간 총 수입(판매비용)이 총 비용(=고정비용+가변비용)보다 많아지게 된다. 최초로 총 수입이 총 비용보다 많아져 이익이 발생하는 지점을 손익분기점(BREAK-EVEN POINT)이라고 한다. \\\n",
    "A, B, C가 주어졌을 때, 손익분기점을 구하는 프로그램을 작성하시오."
   ]
  },
  {
   "cell_type": "code",
   "execution_count": 11,
   "metadata": {},
   "outputs": [
    {
     "name": "stdout",
     "output_type": "stream",
     "text": [
      "-1\n"
     ]
    }
   ],
   "source": [
    "#1712\n",
    "#A + Bx > Cx\n",
    "#첫번째 생각 -> 런타임에러\n",
    "a, b, c = map(int, input().split())\n",
    "var = (a // (c - b)) + 1\n",
    "result = var if var > 0 else -1\n",
    "print(result)\n"
   ]
  },
  {
   "cell_type": "code",
   "execution_count": 14,
   "metadata": {},
   "outputs": [
    {
     "name": "stdout",
     "output_type": "stream",
     "text": [
      "-1\n"
     ]
    }
   ],
   "source": [
    "#손익분기점이 존재하지 않을 때 ? -> c-b가 0보다 같거나 작을 때 !\n",
    "a, b, c = map(int, input().split())\n",
    "if b >= c:\n",
    "    print(-1)\n",
    "else:\n",
    "    print((a // (c - b)) + 1)\n"
   ]
  },
  {
   "cell_type": "markdown",
   "metadata": {},
   "source": [
    "## #2292 벌집\n",
    "> 육각형으로 이루어진 벌집이 있다. \\\n",
    "그림에서 보는 바와 같이 중앙의 방 1부터 시작해서 이웃하는 방에 돌아가면서 1씩 증가하는 번호를 주소로 매길 수 있다. 숫자 N이 주어졌을 때, 벌집의 중앙 1에서 N번 방까지 최소 개수의 방을 지나서 갈 때 몇 개의 방을 지나가는지(시작과 끝을 포함하여)를 계산하는 프로그램을 작성하시오. 예를 들면, 13까지는 3개, 58까지는 5개를 지난다.\n",
    "\n",
    "- 벌집의 개수가 6의배수로 늘어난다.\n",
    "- 2~7 (6개) -> 최소 방 수 : 2\n",
    "- 8~19 (12개) -> 3\n",
    "- 20~37 (18개) -> 4\n",
    "- ..."
   ]
  },
  {
   "cell_type": "code",
   "execution_count": 15,
   "metadata": {},
   "outputs": [
    {
     "name": "stdout",
     "output_type": "stream",
     "text": [
      "5\n"
     ]
    }
   ],
   "source": [
    "#2292\n",
    "n = int(input())\n",
    "nums = 1 #벌집의 개수\n",
    "cnt = 1 #최소 방 개수\n",
    "while n > nums:\n",
    "    nums += 6*cnt\n",
    "    cnt += 1\n",
    "print(cnt)"
   ]
  },
  {
   "cell_type": "markdown",
   "metadata": {},
   "source": [
    "## #1193 분수찾기\n",
    "| | | | | |\n",
    "|---|---|---|---|---|\n",
    "|1/1 | 1/2 | 1/3 | 1/4 | ... | \\\n",
    "|2/1 | 2/2 | 2/3 | 2/4 | ... | \\\n",
    "|3/1 | 3/2 | 3/3 | ... | ... | \\\n",
    "|4/1 | 4/2 | ... | ... | ... | \\\n",
    "|5/1 | ... | ... | ... | ... | \\\n",
    "|... | ... | ... | ... | ... | \\\n",
    "\n",
    "<br>\n",
    "\n",
    "> 이와 같이 나열된 분수들을 1/1 → 1/2 → 2/1 → 3/1 → 2/2 → … 과 같은 지그재그 순서로 차례대로 1번, 2번, 3번, 4번, 5번, … 분수라고 하자. \\\n",
    "X가 주어졌을 때, X번째 분수를 구하는 프로그램을 작성하시오.\n",
    "\n",
    "<br>\n",
    "\n",
    "<img src='./img/백준1193.jpg' width=450px>\n",
    "\n",
    "- 참고한 블로그 : https://wook-2124.tistory.com/263\n"
   ]
  },
  {
   "cell_type": "code",
   "execution_count": 37,
   "metadata": {},
   "outputs": [
    {
     "name": "stdout",
     "output_type": "stream",
     "text": [
      "1/1\n"
     ]
    }
   ],
   "source": [
    "n = int(input())\n",
    "line = 1\n",
    "\n",
    "while n > line:\n",
    "    n -= line\n",
    "    line += 1\n",
    "if line % 2 == 0:\n",
    "    top = n\n",
    "    bottom = line - n + 1\n",
    "else:\n",
    "    top = line - n + 1\n",
    "    bottom = n   \n",
    "print(top, '/', bottom, sep='')"
   ]
  },
  {
   "cell_type": "markdown",
   "metadata": {},
   "source": [
    "## #2869 달팽이는 올라가고 싶다\n",
    "> 땅 위에 달팽이가 있다. 이 달팽이는 높이가 V미터인 나무 막대를 올라갈 것이다. \\\n",
    "달팽이는 낮에 A미터 올라갈 수 있다. 하지만, 밤에 잠을 자는 동안 B미터 미끄러진다. 또, 정상에 올라간 후에는 미끄러지지 않는다. \\\n",
    "달팽이가 나무 막대를 모두 올라가려면, 며칠이 걸리는지 구하는 프로그램을 작성하시오.\n",
    "\n",
    "- Ax - B(x-1) = V\n",
    "- x = (v-B)/(A-B)\n",
    "- x는 올림으로 계산 = round(x)"
   ]
  },
  {
   "cell_type": "code",
   "execution_count": 8,
   "metadata": {},
   "outputs": [
    {
     "name": "stdout",
     "output_type": "stream",
     "text": [
      "2\n"
     ]
    }
   ],
   "source": [
    "import math\n",
    "a, b, v = map(int, input().split())\n",
    "x = math.ceil((v-b) / (a-b))\n",
    "print(x)"
   ]
  },
  {
   "cell_type": "markdown",
   "metadata": {},
   "source": [
    "## #10250 ACM 호텔\n",
    "> 여러분이 작성할 프로그램은 초기에 모든 방이 비어있다고 가정하에 이 정책에 따라 N 번째로 도착한 손님에게 배정될 방 번호를 계산하는 프로그램이다. 첫 번째 손님은 101 호, 두 번째 손님은 201 호 등과 같이 배정한다. 그림 1 의 경우를 예로 들면, H = 6이므로 10 번째 손님은 402 호에 배정해야 한다.\n",
    "\n",
    "- 호텔의 층수가 5층이라면\n",
    "- 101 -> 201 -> 301-> 401 -> 501 -> 102 -> 202 -> 302 -> 402 -> ...\n",
    "- h, w, n : 호텔의 층 수, 각 층의 방 수, 몇 번째 손님\n",
    "- 일단, 손님의 순서(n)가 층 수(h)의 배수이면 층 수에 100을 곱하고 (YYXX or YXX호 형식을 맞추기 위해) 방의 호는 손님의 순서를 층 수로 나눈 몫이다.\n",
    "- 만약 배수가 아니라면, n을 h로 나눈 나머지에 100을 곱한 값과 n을 h로 나눈 몫에 1을 더한 값을 더한다.\n"
   ]
  },
  {
   "cell_type": "code",
   "execution_count": 41,
   "metadata": {},
   "outputs": [
    {
     "name": "stdout",
     "output_type": "stream",
     "text": [
      "1203\n"
     ]
    }
   ],
   "source": [
    "t = int(input())\n",
    "\n",
    "for i in range(t):\n",
    "    h, w, n = map(int, input().split())\n",
    "    f, ho = 0, 0\n",
    "    if n % h == 0:\n",
    "        f = h*100\n",
    "        ho = n//h\n",
    "    else:\n",
    "        f = (n%h) * 100\n",
    "        ho = 1 + (n//h)\n",
    "    print(f + ho)"
   ]
  },
  {
   "cell_type": "markdown",
   "metadata": {},
   "source": [
    "## #2775 부녀회장이 될테야\n",
    "> 평소 반상회에 참석하는 것을 좋아하는 주희는 이번 기회에 부녀회장이 되고 싶어 각 층의 사람들을 불러 모아 반상회를 주최하려고 한다. \\\n",
    "이 아파트에 거주를 하려면 조건이 있는데, “a층의 b호에 살려면 자신의 아래(a-1)층의 1호부터 b호까지 사람들의 수의 합만큼 사람들을 데려와 살아야 한다” 는 계약 조항을 꼭 지키고 들어와야 한다. \\\n",
    "아파트에 비어있는 집은 없고 모든 거주민들이 이 계약 조건을 지키고 왔다고 가정했을 때, 주어지는 양의 정수 k와 n에 대해 k층에 n호에는 몇 명이 살고 있는지 출력하라. 단, 아파트에는 0층부터 있고 각층에는 1호부터 있으며, 0층의 i호에는 i명이 산다.\n",
    "\n",
    "0층 : 1 2 3 4 5 \\\n",
    "1층 : 1 3 6 10 15 \\\n",
    "2층 : 1 4 10 26 41 \\\n",
    "3층 : 1 5 15 41 ... \\\n",
    "..."
   ]
  },
  {
   "cell_type": "code",
   "execution_count": 19,
   "metadata": {},
   "outputs": [
    {
     "name": "stdout",
     "output_type": "stream",
     "text": [
      "6\n"
     ]
    }
   ],
   "source": [
    "t = int(input())\n",
    "for _ in range(t):\n",
    "    k = int(input())\n",
    "    n = int(input())\n",
    "    people = [i for i in range(1, n+1)] #0층 사람들\n",
    "    for x in range(k):\n",
    "        for y in range(1, n):\n",
    "            people[y] += people[y-1] #누적으로 합하기\n",
    "    print(people[-1])"
   ]
  },
  {
   "cell_type": "markdown",
   "metadata": {},
   "source": [
    "## #2839 설탕 배달\n",
    "> 상근이는 요즘 설탕공장에서 설탕을 배달하고 있다. 상근이는 지금 사탕가게에 설탕을 정확하게 N킬로그램을 배달해야 한다. 설탕공장에서 만드는 설탕은 봉지에 담겨져 있다. 봉지는 3킬로그램 봉지와 5킬로그램 봉지가 있다. \\\n",
    "상근이는 귀찮기 때문에, 최대한 적은 봉지를 들고 가려고 한다. 예를 들어, 18킬로그램 설탕을 배달해야 할 때, 3킬로그램 봉지 6개를 가져가도 되지만, 5킬로그램 3개와 3킬로그램 1개를 배달하면, 더 적은 개수의 봉지를 배달할 수 있다. \\\n",
    "상근이가 설탕을 정확하게 N킬로그램 배달해야 할 때, 봉지 몇 개를 가져가면 되는지 그 수를 구하는 프로그램을 작성하시오."
   ]
  },
  {
   "cell_type": "code",
   "execution_count": 29,
   "metadata": {},
   "outputs": [
    {
     "name": "stdout",
     "output_type": "stream",
     "text": [
      "3\n"
     ]
    }
   ],
   "source": [
    "n = int(input())\n",
    "cnt = 0\n",
    "while n>=0:\n",
    "    if n%5 == 0: #먼저 5의 배수인지 확인\n",
    "        cnt += (n//5)\n",
    "        print(cnt)\n",
    "        break\n",
    "    #5의 배수가 될 때까지 3을 빼준다.\n",
    "    n -= 3\n",
    "    cnt += 1\n",
    "#n이 음수가 되면 (즉, 3과 5로 n이 될 수 없을 때)\n",
    "else:\n",
    "    print(-1)\n",
    "    "
   ]
  },
  {
   "cell_type": "markdown",
   "metadata": {},
   "source": [
    "## #10757 큰 수 A+B\n",
    "> 두 정수 A와 B를 입력받은 다음, A+B를 출력하는 프로그램을 작성하시오.\n",
    "\n",
    "- Python은 오버플로우가 없기 때문에 메모리가 터지지 않는다.\n",
    "- 참고 : https://ahracho.github.io/posts/python/2017-05-09-python-integer-overflow/"
   ]
  },
  {
   "cell_type": "code",
   "execution_count": 30,
   "metadata": {},
   "outputs": [
    {
     "name": "stdout",
     "output_type": "stream",
     "text": [
      "18446744073709551615\n"
     ]
    }
   ],
   "source": [
    "a, b = map(int, input().split())\n",
    "print(a+b)"
   ]
  }
 ],
 "metadata": {
  "interpreter": {
   "hash": "d2f0a00d37530bf1e1f124be3b72f6f0e226eb2eeb8e18c6ab2fa55754a1c6b6"
  },
  "kernelspec": {
   "display_name": "Python 3.10.0 64-bit",
   "language": "python",
   "name": "python3"
  },
  "language_info": {
   "codemirror_mode": {
    "name": "ipython",
    "version": 3
   },
   "file_extension": ".py",
   "mimetype": "text/x-python",
   "name": "python",
   "nbconvert_exporter": "python",
   "pygments_lexer": "ipython3",
   "version": "3.10.0"
  },
  "orig_nbformat": 4
 },
 "nbformat": 4,
 "nbformat_minor": 2
}
