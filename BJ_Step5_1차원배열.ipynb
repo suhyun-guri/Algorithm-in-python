{
 "cells": [
  {
   "cell_type": "markdown",
   "metadata": {},
   "source": [
    "# 단계 5, 1차원 배열 \n",
    "- 10818, 2562, 2577, 3052, 1546, 8958, 4344"
   ]
  },
  {
   "cell_type": "code",
   "execution_count": null,
   "metadata": {},
   "outputs": [
    {
     "name": "stdout",
     "output_type": "stream",
     "text": [
      "7 35\n"
     ]
    }
   ],
   "source": [
    "#10818\n",
    "n = int(input())\n",
    "mylist = list(map(int, input().split()))\n",
    "print(min(mylist), max(mylist))"
   ]
  },
  {
   "cell_type": "code",
   "execution_count": null,
   "metadata": {},
   "outputs": [
    {
     "name": "stdout",
     "output_type": "stream",
     "text": [
      "7 35\n"
     ]
    }
   ],
   "source": [
    "n = int(input())\n",
    "mylist = list(map(int, input().split()))\n",
    "minnum = mylist[0]\n",
    "maxnum = mylist[0]\n",
    "\n",
    "for i in range(len(mylist)):\n",
    "    if mylist[i] < minnum:\n",
    "        minnum = mylist[i]\n",
    "    if mylist[i] > maxnum:\n",
    "        maxnum = mylist[i]\n",
    "print(minnum, maxnum)"
   ]
  },
  {
   "cell_type": "code",
   "execution_count": null,
   "metadata": {},
   "outputs": [
    {
     "name": "stdout",
     "output_type": "stream",
     "text": [
      "85\n",
      "7\n"
     ]
    }
   ],
   "source": [
    "#2562\n",
    "mylist = [int(input()) for i in range(9)]\n",
    "maxnum = max(mylist)\n",
    "idx = 1\n",
    "for i in mylist:\n",
    "    if i == maxnum:\n",
    "        print(maxnum)\n",
    "        print(idx)\n",
    "    idx += 1"
   ]
  },
  {
   "cell_type": "code",
   "execution_count": null,
   "metadata": {},
   "outputs": [
    {
     "name": "stdout",
     "output_type": "stream",
     "text": [
      "85\n",
      "7\n"
     ]
    }
   ],
   "source": [
    "#2562\n",
    "mylist = [int(input()) for i in range(9)]\n",
    "maxnum = max(mylist)\n",
    "print(maxnum)\n",
    "print(mylist.index(maxnum) + 1)"
   ]
  },
  {
   "cell_type": "code",
   "execution_count": null,
   "metadata": {},
   "outputs": [
    {
     "name": "stdout",
     "output_type": "stream",
     "text": [
      "3\n",
      "1\n",
      "0\n",
      "2\n",
      "0\n",
      "0\n",
      "0\n",
      "2\n",
      "0\n",
      "0\n"
     ]
    }
   ],
   "source": [
    "#2577\n",
    "a = int(input())\n",
    "b = int(input())\n",
    "c = int(input())\n",
    "x = list(str(a*b*c))\n",
    "\n",
    "for i in range(10):\n",
    "    print(x.count(str(i)))"
   ]
  },
  {
   "cell_type": "code",
   "execution_count": null,
   "metadata": {},
   "outputs": [
    {
     "name": "stdout",
     "output_type": "stream",
     "text": [
      "6\n"
     ]
    }
   ],
   "source": [
    "#3052\n",
    "mylist = [int(input()) for _ in range(10)]\n",
    "value = [i%42 for i in mylist]\n",
    "print(len(set(value)))"
   ]
  },
  {
   "cell_type": "code",
   "execution_count": null,
   "metadata": {},
   "outputs": [
    {
     "data": {
      "text/plain": [
       "2"
      ]
     },
     "metadata": {},
     "output_type": "display_data"
    }
   ],
   "source": [
    "a = [1,1,1,1,1,1,3]\n",
    "len(set(a))"
   ]
  },
  {
   "cell_type": "code",
   "execution_count": null,
   "metadata": {},
   "outputs": [
    {
     "name": "stdout",
     "output_type": "stream",
     "text": [
      "[10, 20, 30]\n",
      "66.66666666666667\n"
     ]
    }
   ],
   "source": [
    "#1546\n",
    "n = int(input())\n",
    "score = list(map(int, input().split()))\n",
    "maxscore = max(score)\n",
    "newscore = [i / maxscore*100 for i in score]\n",
    "newmean = sum(newscore) / n\n",
    "print(newmean)"
   ]
  },
  {
   "cell_type": "code",
   "execution_count": 10,
   "metadata": {},
   "outputs": [
    {
     "name": "stdout",
     "output_type": "stream",
     "text": [
      "9\n",
      "7\n"
     ]
    }
   ],
   "source": [
    "#8958\n",
    "n = int(input())\n",
    "\n",
    "for _ in range(n):\n",
    "    li = list(input())\n",
    "    score, final_score = 0, 0\n",
    "    for i in li:\n",
    "        if i == 'O':\n",
    "            score += 1\n",
    "            final_score += score\n",
    "        elif i == 'X':\n",
    "            score = 0\n",
    "    print(final_score)\n"
   ]
  },
  {
   "cell_type": "code",
   "execution_count": 21,
   "metadata": {},
   "outputs": [
    {
     "name": "stdout",
     "output_type": "stream",
     "text": [
      "40.000%\n"
     ]
    }
   ],
   "source": [
    "#4344\n",
    "n = int(input())\n",
    "for i in range(n):\n",
    "    li = list(map(int, input().split()))\n",
    "    avg = sum(li[1:]) / li[0]\n",
    "    count = 0\n",
    "    for score in li[1:]:\n",
    "        if score > avg:\n",
    "            count += 1\n",
    "    print(\"{:.3f}%\".format(count / li[0] * 100))\n"
   ]
  },
  {
   "cell_type": "code",
   "execution_count": null,
   "metadata": {},
   "outputs": [],
   "source": []
  },
  {
   "cell_type": "code",
   "execution_count": null,
   "metadata": {},
   "outputs": [],
   "source": []
  },
  {
   "cell_type": "code",
   "execution_count": null,
   "metadata": {},
   "outputs": [],
   "source": []
  },
  {
   "cell_type": "code",
   "execution_count": null,
   "metadata": {},
   "outputs": [],
   "source": []
  },
  {
   "cell_type": "code",
   "execution_count": null,
   "metadata": {},
   "outputs": [],
   "source": []
  },
  {
   "cell_type": "code",
   "execution_count": null,
   "metadata": {},
   "outputs": [],
   "source": []
  }
 ],
 "metadata": {
  "interpreter": {
   "hash": "d2f0a00d37530bf1e1f124be3b72f6f0e226eb2eeb8e18c6ab2fa55754a1c6b6"
  },
  "kernelspec": {
   "display_name": "Python 3.10.0 64-bit",
   "language": "python",
   "name": "python3"
  },
  "language_info": {
   "codemirror_mode": {
    "name": "ipython",
    "version": 3
   },
   "file_extension": ".py",
   "mimetype": "text/x-python",
   "name": "python",
   "nbconvert_exporter": "python",
   "pygments_lexer": "ipython3",
   "version": "3.10.0"
  },
  "orig_nbformat": 4
 },
 "nbformat": 4,
 "nbformat_minor": 2
}
