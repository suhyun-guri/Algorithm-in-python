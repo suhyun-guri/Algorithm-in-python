{
 "cells": [
  {
   "cell_type": "markdown",
   "metadata": {},
   "source": [
    "# 백준 단계 2, If문"
   ]
  },
  {
   "cell_type": "markdown",
   "metadata": {},
   "source": [
    "### #1330 두 수 비교하기"
   ]
  },
  {
   "cell_type": "code",
   "execution_count": null,
   "metadata": {},
   "outputs": [],
   "source": [
    "A, B = map(int, input().split())\n",
    "if A > B:\n",
    "  print(\">\")\n",
    "elif A < B:\n",
    "  print(\"<\")\n",
    "else:\n",
    "  print(\"==\")"
   ]
  },
  {
   "cell_type": "code",
   "execution_count": null,
   "metadata": {},
   "outputs": [],
   "source": [
    "# 삼항 연산자 사용\n",
    "A, B = map(int, input().split())\n",
    "print(\">\") if A > B else print(\"<\") if A < B else print(\"==\")"
   ]
  },
  {
   "cell_type": "markdown",
   "metadata": {},
   "source": [
    "### #9498 시험 성적"
   ]
  },
  {
   "cell_type": "code",
   "execution_count": null,
   "metadata": {},
   "outputs": [],
   "source": [
    "score = int(input())\n",
    "if score >=90:\n",
    "  print(\"A\")  \n",
    "elif score >= 80:\n",
    "  print(\"B\")\n",
    "elif score >= 70:\n",
    "  print(\"C\")  \n",
    "elif score >= 60:\n",
    "  print(\"D\")\n",
    "else:\n",
    "  print(\"F\")"
   ]
  },
  {
   "cell_type": "markdown",
   "metadata": {},
   "source": [
    "### #2753 윤년"
   ]
  },
  {
   "cell_type": "code",
   "execution_count": null,
   "metadata": {},
   "outputs": [],
   "source": [
    "year = int(input())\n",
    "if year % 4 == 0 and (year % 100 != 0 or year % 400 == 0):\n",
    "  print(1)\n",
    "else:\n",
    "  print(0)"
   ]
  },
  {
   "cell_type": "markdown",
   "metadata": {},
   "source": [
    "### #14681 사분면 고르기"
   ]
  },
  {
   "cell_type": "code",
   "execution_count": null,
   "metadata": {},
   "outputs": [],
   "source": [
    "x = int(input())\n",
    "y = int(input())\n",
    "\n",
    "if x>0 and y>0 :\n",
    "  print(1)\n",
    "elif x<0 and y>0:\n",
    "  print(2)\n",
    "elif x<0 and y<0:\n",
    "  print(3)\n",
    "else:\n",
    "  print(4)"
   ]
  },
  {
   "cell_type": "markdown",
   "metadata": {},
   "source": [
    "### #2884 알람 시계\n",
    "\n",
    "- 1) H, M를 int로 받는다\n",
    "- 2) 먼저 M에 45를 빼준다\n",
    "- 3 ~) 45분을 뺀 M이 음수로 나오면, M에 60분을 더해주고 H는 1을 빼준다\n",
    "- 6 ~) 1을 뺀 H가 -1 즉, 음수이면 H에 24를 더해준다."
   ]
  },
  {
   "cell_type": "code",
   "execution_count": null,
   "metadata": {},
   "outputs": [],
   "source": [
    "H, M = map(int, input().split())\n",
    "M -= 45\n",
    "if M < 0:\n",
    "  M += 60\n",
    "  H-=1\n",
    "if H<0:\n",
    "  H += 24\n",
    "print(H, M)"
   ]
  }
 ],
 "metadata": {
  "language_info": {
   "name": "python"
  },
  "orig_nbformat": 4
 },
 "nbformat": 4,
 "nbformat_minor": 2
}
